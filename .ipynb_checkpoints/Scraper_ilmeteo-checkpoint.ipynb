{
 "cells": [
  {
   "cell_type": "code",
   "execution_count": 4,
   "metadata": {},
   "outputs": [],
   "source": [
    "import requests\n",
    "import pandas as pd"
   ]
  },
  {
   "cell_type": "code",
   "execution_count": 5,
   "metadata": {},
   "outputs": [],
   "source": [
    "# Import list of Italian provinces\n",
    "province = pd.read_csv(\"province-sigle.csv\", encoding = \"ISO-8859-1\", header= None)[[0]].values\n",
    "prov = list(el[0] for el in province)"
   ]
  },
  {
   "cell_type": "code",
   "execution_count": 6,
   "metadata": {},
   "outputs": [],
   "source": [
    "# Insert the list of yy/mm you want to scrap, if you want to have many years you can also use two lists\n",
    "# one for years and one for the months\n",
    "year_months = [\"2019/Novembre\",\"2019/Dicembre\", \"2020/Gennaio\", \"2020/Febbraio\", \"2020/Marzo\", \"2020/Aprile\",\n",
    "              \"2020/Maggio\", \"2020/Giugno\"] #, \"Luglio\", \"Agosto\", \"Settembre\", \"Ottobre\", \"Novembre\", \"Dicembre\""
   ]
  },
  {
   "cell_type": "code",
   "execution_count": 7,
   "metadata": {},
   "outputs": [],
   "source": [
    "def get_historic_weather(city, ym = True, year = \"2020/Gennaio\", month = None):\n",
    "    base_url = \"https://www.ilmeteo.it/portale/archivio-meteo/\"\n",
    "    if ym == True:\n",
    "        URL = base_url + str(city) + \"/\" + str(year) + \"?format=csv\"\n",
    "    else:\n",
    "        URL = base_url + str(city) + \"/\" + str(year) + \"/\" + str(month) + \\\n",
    "        \"?format=csv\"\n",
    "    return URL"
   ]
  },
  {
   "cell_type": "code",
   "execution_count": 10,
   "metadata": {},
   "outputs": [],
   "source": [
    "tabella = \"\"\n",
    "b = False\n",
    "city = True\n",
    "not_existing_cities = []\n",
    "# Loop for each province\n",
    "for p in prov[0:5]:\n",
    "    city = True\n",
    "    # Loop for each combination yy/mm. Use two loops if you want the two separate lists\n",
    "    for ym in year_months:\n",
    "        # Do the request only if the city has a csv download or it is the first attempt\n",
    "        if city == True:\n",
    "            # Request the csv download. Pass province and yy/mm to get the url. If using two lists pass\n",
    "            # get_historic_weather(p, ym = False, year = y, month = m)\n",
    "            url = get_historic_weather(p, year = ym)\n",
    "            tmp = requests.get(url, allow_redirects=True)\n",
    "            # Check if the csv file was found\n",
    "            if (str(tmp.content[0:1]) != \"b'<'\"):\n",
    "                if b == False:\n",
    "                    tabella = tmp.content\n",
    "                    b = True\n",
    "                else:\n",
    "                    # If it is not the first csv to unpack you need to remove the headers\n",
    "                    tabella += tmp.content[182:]\n",
    "            else:\n",
    "                not_existing_cities.append(p)\n",
    "                city= False"
   ]
  },
  {
   "cell_type": "code",
   "execution_count": 11,
   "metadata": {},
   "outputs": [
    {
     "data": {
      "text/plain": [
       "['Agrigento', 'Alessandria', 'Aosta']"
      ]
     },
     "execution_count": 11,
     "metadata": {},
     "output_type": "execute_result"
    }
   ],
   "source": [
    "not_existing_cities"
   ]
  },
  {
   "cell_type": "code",
   "execution_count": 9,
   "metadata": {},
   "outputs": [
    {
     "data": {
      "text/plain": [
       "1416198"
      ]
     },
     "execution_count": 9,
     "metadata": {},
     "output_type": "execute_result"
    }
   ],
   "source": [
    "# Save csv file\n",
    "open('meteoItalianProvinces.csv', 'wb').write(tabella)"
   ]
  }
 ],
 "metadata": {
  "kernelspec": {
   "display_name": "Python 3",
   "language": "python",
   "name": "python3"
  },
  "language_info": {
   "codemirror_mode": {
    "name": "ipython",
    "version": 3
   },
   "file_extension": ".py",
   "mimetype": "text/x-python",
   "name": "python",
   "nbconvert_exporter": "python",
   "pygments_lexer": "ipython3",
   "version": "3.6.6"
  }
 },
 "nbformat": 4,
 "nbformat_minor": 2
}
