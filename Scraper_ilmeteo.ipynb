{
 "cells": [
  {
   "cell_type": "code",
   "execution_count": 16,
   "metadata": {},
   "outputs": [],
   "source": [
    "import requests\n",
    "import pandas as pd"
   ]
  },
  {
   "cell_type": "code",
   "execution_count": 17,
   "metadata": {},
   "outputs": [],
   "source": [
    "# Import list of Italian provinces\n",
    "biggest_municipalities = pd.read_csv(\"municipalities.csv\")\n",
    "municipalities = list(biggest_municipalities.Comune)\n",
    "#province = pd.read_csv(\"province-sigle.csv\", encoding = \"ISO-8859-1\", header= None)[[0]].values\n",
    "#prov = list(el[0] for el in province)"
   ]
  },
  {
   "cell_type": "code",
   "execution_count": 18,
   "metadata": {},
   "outputs": [],
   "source": [
    "# Insert the list of yy/mm you want to scrap, if you want to have many years you can also use two lists\n",
    "# one for years and one for the months\n",
    "year_months = [\"2019/Novembre\",\"2019/Dicembre\", \"2020/Gennaio\", \"2020/Febbraio\", \"2020/Marzo\", \"2020/Aprile\",\n",
    "              \"2020/Maggio\", \"2020/Giugno\"] #, \"Luglio\", \"Agosto\", \"Settembre\", \"Ottobre\", \"Novembre\", \"Dicembre\""
   ]
  },
  {
   "cell_type": "code",
   "execution_count": 7,
   "metadata": {},
   "outputs": [],
   "source": [
    "def get_historic_weather(city, ym = True, year = \"2020/Gennaio\", month = None):\n",
    "    base_url = \"https://www.ilmeteo.it/portale/archivio-meteo/\"\n",
    "    if ym == True:\n",
    "        URL = base_url + str(city) + \"/\" + str(year) + \"?format=csv\"\n",
    "    else:\n",
    "        URL = base_url + str(city) + \"/\" + str(year) + \"/\" + str(month) + \"?format=csv\"\n",
    "    return URL"
   ]
  },
  {
   "cell_type": "code",
   "execution_count": 19,
   "metadata": {},
   "outputs": [],
   "source": [
    "def get_csv(municipalities, ym = True, year = \"2020/Gennaio\", month = None):\n",
    "    table = \"\"\n",
    "    b = False\n",
    "    city = True\n",
    "    not_existing_cities = []\n",
    "    # Loop for each province\n",
    "    for c in municipalities:\n",
    "        city = True\n",
    "        # Loop for each combination yy/mm. Use two loops if you want the two\n",
    "        # separate lists\n",
    "        for ym in year_months:\n",
    "            # Do the request only if the city has a csv download or it is the first\n",
    "            #  attempt\n",
    "            if city == True:\n",
    "                # Request the csv download. Pass province and yy/mm to get the url.\n",
    "                # If using two lists pass get_historic_weather(c, ym = False,\n",
    "                #                                              year = y, month = m)\n",
    "                url = get_historic_weather(c, year = ym)\n",
    "                tmp = requests.get(url, allow_redirects=True)\n",
    "                # Check if the csv file was found\n",
    "                if (str(tmp.content[0:1]) != \"b'<'\"):\n",
    "                    if b == False:\n",
    "                        table = tmp.content\n",
    "                        b = True\n",
    "                    else:\n",
    "                        # If it is not the first csv to unpack you need to remove\n",
    "                        # the headers\n",
    "                        table += tmp.content[182:]\n",
    "                else:\n",
    "                    not_existing_cities.append(c)\n",
    "                    city= False\n",
    "    return (table, not_existing_cities)\n",
    "\n"
   ]
  },
  {
   "cell_type": "code",
   "execution_count": 20,
   "metadata": {},
   "outputs": [],
   "source": [
    "table, not_included = get_csv(municipalities, year_months)"
   ]
  },
  {
   "cell_type": "code",
   "execution_count": 22,
   "metadata": {},
   "outputs": [
    {
     "output_type": "execute_result",
     "data": {
      "text/plain": "4443219"
     },
     "metadata": {},
     "execution_count": 22
    }
   ],
   "source": [
    "# Save csv file\n",
    "open('meteoItalianCities.csv', 'wb').write(table)"
   ]
  },
  {
   "cell_type": "code",
   "execution_count": 23,
   "metadata": {},
   "outputs": [
    {
     "output_type": "execute_result",
     "data": {
      "text/plain": "['Agrigento',\n 'Sciacca',\n 'Licata',\n 'Alessandria',\n 'Novi Ligure',\n 'Ascoli Piceno',\n 'San Benedetto del Tronto',\n 'Grottammare',\n 'Asti',\n 'Canelli',\n 'Nizza Monferrato',\n 'Avellino',\n 'Montoro',\n 'Belluno',\n 'Feltre',\n 'Borgo Valbelluna',\n 'Benevento',\n 'Montesarchio',\n \"Sant'Agata de' Goti\",\n 'Treviglio',\n 'Biella',\n 'Valdilana',\n 'Caltanissetta',\n 'Niscemi',\n 'Termoli',\n 'Bojano',\n 'Caserta',\n 'Paternò',\n 'Vasto',\n 'Cantù',\n 'Corigliano-Rossano',\n 'Crema',\n 'Cirò Marina',\n 'Piazza Armerina',\n 'Nicosia',\n 'Fermo',\n \"Porto Sant'Elpidio\",\n 'Comacchio',\n 'Forlì',\n 'Cassino',\n 'Isernia',\n 'Venafro',\n 'Agnone',\n \"L'Aquila\",\n 'Avezzano',\n 'Sulmona',\n 'Nardò',\n 'Merate',\n 'Piombino',\n 'Lodi',\n 'Pisticci',\n 'Policoro',\n 'Carpi',\n 'Sassuolo',\n 'Nuoro',\n 'Tortolì',\n 'Oristano',\n 'Terralba',\n 'Cabras',\n 'Padova',\n 'Voghera',\n 'Città di Castello',\n 'Melfi',\n 'Ragusa',\n 'Vittoria',\n 'Modica',\n 'Reggio di Calabria',\n \"Reggio nell'Emilia\",\n 'Avola',\n 'Sondrio',\n 'Tirano',\n 'Teramo',\n 'Terni',\n 'Duino Aurisina',\n 'Aosta',\n 'Châtillon',\n 'Sarre',\n 'San Donà di Piave',\n 'Domodossola',\n 'Santhià']"
     },
     "metadata": {},
     "execution_count": 23
    }
   ],
   "source": [
    "not_included"
   ]
  }
 ],
 "metadata": {
  "kernelspec": {
   "display_name": "Python 3",
   "language": "python",
   "name": "python3"
  },
  "language_info": {
   "codemirror_mode": {
    "name": "ipython",
    "version": 3
   },
   "file_extension": ".py",
   "mimetype": "text/x-python",
   "name": "python",
   "nbconvert_exporter": "python",
   "pygments_lexer": "ipython3",
   "version": "3.6.6-final"
  }
 },
 "nbformat": 4,
 "nbformat_minor": 2
}